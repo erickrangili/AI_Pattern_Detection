{
 "cells": [
  {
   "cell_type": "code",
   "execution_count": 3,
   "metadata": {},
   "outputs": [],
   "source": [
    "import datetime\n",
    "import json\n",
    "import numpy as np\n",
    "import matplotlib.pyplot as plt\n",
    "from sklearn import covariance, cluster\n",
    "from matplotlib.finance import quotes_historical_yahoo_ochl as quotes_yahoo\n",
    "\n",
    "# We will be using the stock market data available in matplotlib. The company symbols are\n",
    "# mapped to their full names in the file company_symbol_mapping.json:\n",
    "# Input file containing company symbols\n",
    "input_file = 'company_symbol_mapping.json'\n",
    "\n",
    "# Load the company symbol map\n",
    "with open(input_file, 'r') as f:\n",
    "    company_symbols_map = json.loads(f.read())\n",
    "\n",
    "symbols, names = np.array(list(company_symbols_map.items())).T\n",
    "\n",
    "# Load the historical stock quotes\n",
    "start_date = datetime.datetime(2003, 7, 3)\n",
    "end_date = datetime.datetime(2007, 5, 4)\n",
    "quotes = [quotes_yahoo(symbol, start_date, end_date, asobject=True)\n",
    "                for symbol in symbols]\n",
    "\n",
    "# Extract opening and closing quotes\n",
    "opening_quotes = np.array([quote.open for quote in\n",
    "quotes]).astype(np.float)\n",
    "closing_quotes = np.array([quote.close for quote in\n",
    "quotes]).astype(np.float)\n",
    "\n",
    "# Compute differences between opening and closing quotes\n",
    "quotes_diff = closing_quotes - opening_quotes\n",
    "\n",
    "# Normalize the data\n",
    "X = quotes_diff.copy().T\n",
    "X /= X.std(axis=0)\n",
    "\n",
    "# Create a graph model\n",
    "edge_model = covariance.GraphLassoCV()\n",
    "\n",
    "# Train the model\n",
    "with np.errstate(invalid='ignore'):\n",
    "edge_model.fit(X)\n",
    "\n",
    "# Build the affinity propagation clustering model using the edge model we just trained:\n",
    "# Build clustering model using Affinity Propagation model\n",
    "_, labels = cluster.affinity_propagation(edge_model.covariance_)\n",
    "num_labels = labels.max()\n",
    "\n",
    "\n",
    "# Print the results of clustering\n",
    "for i in range(num_labels + 1):\n",
    "    print(\"Cluster\", i+1, \"==>\", ', '.join(names[labels == i]))"
   ]
  },
  {
   "cell_type": "code",
   "execution_count": null,
   "metadata": {},
   "outputs": [],
   "source": []
  },
  {
   "cell_type": "code",
   "execution_count": null,
   "metadata": {},
   "outputs": [],
   "source": []
  },
  {
   "cell_type": "code",
   "execution_count": null,
   "metadata": {},
   "outputs": [],
   "source": []
  }
 ],
 "metadata": {
  "kernelspec": {
   "display_name": "Python 3",
   "language": "python",
   "name": "python3"
  },
  "language_info": {
   "codemirror_mode": {
    "name": "ipython",
    "version": 3
   },
   "file_extension": ".py",
   "mimetype": "text/x-python",
   "name": "python",
   "nbconvert_exporter": "python",
   "pygments_lexer": "ipython3",
   "version": "3.7.4"
  }
 },
 "nbformat": 4,
 "nbformat_minor": 4
}
