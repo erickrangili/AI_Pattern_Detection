{
 "cells": [
  {
   "cell_type": "code",
   "execution_count": 1,
   "metadata": {},
   "outputs": [
    {
     "ename": "TypeError",
     "evalue": "__init__() got multiple values for argument 'n_splits'",
     "output_type": "error",
     "traceback": [
      "\u001b[1;31m---------------------------------------------------------------------------\u001b[0m",
      "\u001b[1;31mTypeError\u001b[0m                                 Traceback (most recent call last)",
      "\u001b[1;32m<ipython-input-1-159b50d0a314>\u001b[0m in \u001b[0;36m<module>\u001b[1;34m\u001b[0m\n\u001b[0;32m     11\u001b[0m \u001b[1;33m\u001b[0m\u001b[0m\n\u001b[0;32m     12\u001b[0m \u001b[1;31m# Split dataset into training and testing (80/20 split)\u001b[0m\u001b[1;33m\u001b[0m\u001b[1;33m\u001b[0m\u001b[1;33m\u001b[0m\u001b[0m\n\u001b[1;32m---> 13\u001b[1;33m \u001b[0mindices\u001b[0m \u001b[1;33m=\u001b[0m \u001b[0mStratifiedKFold\u001b[0m\u001b[1;33m(\u001b[0m\u001b[0miris\u001b[0m\u001b[1;33m.\u001b[0m\u001b[0mtarget\u001b[0m\u001b[1;33m,\u001b[0m \u001b[0mn_splits\u001b[0m\u001b[1;33m=\u001b[0m\u001b[1;36m5\u001b[0m\u001b[1;33m)\u001b[0m\u001b[1;33m\u001b[0m\u001b[1;33m\u001b[0m\u001b[0m\n\u001b[0m\u001b[0;32m     14\u001b[0m \u001b[1;33m\u001b[0m\u001b[0m\n\u001b[0;32m     15\u001b[0m \u001b[1;31m# Extract the training data:\u001b[0m\u001b[1;33m\u001b[0m\u001b[1;33m\u001b[0m\u001b[1;33m\u001b[0m\u001b[0m\n",
      "\u001b[1;31mTypeError\u001b[0m: __init__() got multiple values for argument 'n_splits'"
     ]
    }
   ],
   "source": [
    "import numpy as np\n",
    "import matplotlib.pyplot as plt\n",
    "from matplotlib import patches\n",
    "from sklearn import datasets\n",
    "from sklearn.mixture import GaussianMixture\n",
    "from sklearn.model_selection import StratifiedKFold\n",
    "\n",
    "# Let's use the iris dataset available in scikit-learn for analysis:\n",
    "# Load the iris dataset\n",
    "iris = datasets.load_iris()\n",
    "\n",
    "# Split dataset into training and testing (80/20 split)\n",
    "indices = StratifiedKFold(iris.target, n_splits=5)\n",
    "\n",
    "# Extract the training data:\n",
    "# Take the first fold\n",
    "train_index, test_index = next(iter(indices))\n",
    "# Extract training data and labels\n",
    "X_train = iris.data[train_index]\n",
    "y_train = iris.target[train_index]\n",
    "# Extract testing data and labels\n",
    "X_test = iris.data[test_index]\n",
    "y_test = iris.target[test_index]\n",
    "\n",
    "# Extract the number of classes in the training data\n",
    "num_classes = len(np.unique(y_train))\n",
    "\n",
    "# Build GMM\n",
    "classifier = GMM(n_components=num_classes, covariance_type='full',init_params='wc', n_iter=20)\n",
    "\n",
    "# Initialize the GMM means\n",
    "classifier.means_ = np.array([X_train[y_train == i].mean(axis=0)\n",
    "for i in range(num_classes)])\n",
    "\n",
    "# Train the GMM classifier\n",
    "classifier.fit(X_train)\n",
    "\n",
    "# Draw boundaries\n",
    "plt.figure()\n",
    "colors = 'bgr'\n",
    "for i, color in enumerate(colors):\n",
    "    # Extract eigenvalues and eigenvectors\n",
    "    eigenvalues, eigenvectors = np.linalg.eigh(classifier._get_covars()[i][:2, :2])\n",
    "    \n",
    "# Normalize the first eigenvector\n",
    "norm_vec = eigenvectors[0] / np.linalg.norm(eigenvectors[0])\n",
    "\n",
    "# Extract the angle of tilt\n",
    "angle = np.arctan2(norm_vec[1], norm_vec[0])\n",
    "angle = 180 * angle / np.pi\n",
    "\n",
    "# Scaling factor to magnify the ellipses for visualization\n",
    "# (random value chosen to suit our needs)\n",
    "scaling_factor = 8\n",
    "eigenvalues *= scaling_factor\n",
    "\n",
    "# Draw the ellipse\n",
    "ellipse = patches.Ellipse(classifier.means_[i, :2],eigenvalues[0], eigenvalues[1], 180 + angle,color=color)\n",
    "axis_handle = plt.subplot(1, 1, 1)\n",
    "ellipse.set_clip_box(axis_handle.bbox)\n",
    "ellipse.set_alpha(0.6)\n",
    "axis_handle.add_artist(ellipse)\n",
    "\n",
    "# Plot the data\n",
    "colors = 'bgr'\n",
    "for i, color in enumerate(colors):\n",
    "    cur_data = iris.data[iris.target == i]\n",
    "    plt.scatter(cur_data[:,0], cur_data[:,1], marker='o',facecolors='none', edgecolors='black', s=40,label=iris.target_names[i])\n",
    "\n",
    "# Overlay test data on this figure:\n",
    "test_data = X_test[y_test == i]\n",
    "plt.scatter(test_data[:,0], test_data[:,1], marker='s',facecolors='black', edgecolors='black', s=40,label=iris.target_names[i])\n",
    "\n",
    "# Compute predictions for training and testing data\n",
    "y_train_pred = classifier.predict(X_train)\n",
    "accuracy_training = np.mean(y_train_pred.ravel() == y_train.ravel()) * 100\n",
    "print('Accuracy on training data =', accuracy_training)\n",
    "y_test_pred = classifier.predict(X_test)\n",
    "accuracy_testing = np.mean(y_test_pred.ravel() == y_test.ravel()) * 100\n",
    "print('Accuracy on testing data =', accuracy_testing)\n",
    "plt.title('GMM classifier')\n",
    "plt.xticks(())\n",
    "plt.yticks(())\n",
    "plt.show()\n",
    "    "
   ]
  },
  {
   "cell_type": "code",
   "execution_count": null,
   "metadata": {},
   "outputs": [],
   "source": []
  },
  {
   "cell_type": "code",
   "execution_count": null,
   "metadata": {},
   "outputs": [],
   "source": []
  },
  {
   "cell_type": "code",
   "execution_count": null,
   "metadata": {},
   "outputs": [],
   "source": []
  },
  {
   "cell_type": "code",
   "execution_count": null,
   "metadata": {},
   "outputs": [],
   "source": []
  },
  {
   "cell_type": "code",
   "execution_count": null,
   "metadata": {},
   "outputs": [],
   "source": []
  },
  {
   "cell_type": "code",
   "execution_count": null,
   "metadata": {},
   "outputs": [],
   "source": []
  }
 ],
 "metadata": {
  "kernelspec": {
   "display_name": "Python 3",
   "language": "python",
   "name": "python3"
  },
  "language_info": {
   "codemirror_mode": {
    "name": "ipython",
    "version": 3
   },
   "file_extension": ".py",
   "mimetype": "text/x-python",
   "name": "python",
   "nbconvert_exporter": "python",
   "pygments_lexer": "ipython3",
   "version": "3.7.4"
  }
 },
 "nbformat": 4,
 "nbformat_minor": 4
}
